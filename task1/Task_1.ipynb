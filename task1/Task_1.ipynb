{
 "cells": [
  {
   "cell_type": "code",
   "execution_count": 6,
   "id": "72580eb6-ef85-4ef2-af46-35301aca345f",
   "metadata": {},
   "outputs": [
    {
     "name": "stdin",
     "output_type": "stream",
     "text": [
      "Enter a String I woke up at 12:00 to check the latest racecars on my laptop\n"
     ]
    },
    {
     "name": "stdout",
     "output_type": "stream",
     "text": [
      "Good Afternoon I woke up at 12:00 to check the latest racecars on my 💻\n"
     ]
    }
   ],
   "source": [
    "def transform_text(input_text: str) -> str:\n",
    "    text = input_text.replace(\"mobile\", \"📱\")\n",
    "    text = text.replace(\"laptop\", \"💻\")\n",
    "    text = text.replace(\"watch\", \"⌚\")\n",
    "    words = text.split()\n",
    "    new = []\n",
    "    for word in words:\n",
    "        clean = word.lower().strip(\".,!?\")\n",
    "        reverse = clean[::-1]\n",
    "        if clean == reverse and len(clean) > 1: \n",
    "            new.append(word + \"s\")\n",
    "        else:\n",
    "            new.append(word)\n",
    "    text = \" \".join(new)\n",
    "    for word in text.split():\n",
    "        if \":\" in word and word.replace(\":\", \"\").isdigit():\n",
    "            hour = int(word.split(\":\")[0])\n",
    "            if 5 <= hour < 12:\n",
    "                return \"Good Morning \" + text\n",
    "            elif 12 <= hour < 17:\n",
    "                return \"Good Afternoon \" + text\n",
    "            elif 17 <= hour < 21:\n",
    "                return \"Good Evening \" + text\n",
    "            else:\n",
    "                return \"Good Night \" + text\n",
    "sentence = str(input(\"Enter a String\"))\n",
    "print(transform_text(sentence))"
   ]
  },
  {
   "cell_type": "code",
   "execution_count": null,
   "id": "aa6c5c67-17c9-4dd8-b5af-6fdff4a671c4",
   "metadata": {},
   "outputs": [],
   "source": []
  }
 ],
 "metadata": {
  "kernelspec": {
   "display_name": "Python 3 (ipykernel)",
   "language": "python",
   "name": "python3"
  },
  "language_info": {
   "codemirror_mode": {
    "name": "ipython",
    "version": 3
   },
   "file_extension": ".py",
   "mimetype": "text/x-python",
   "name": "python",
   "nbconvert_exporter": "python",
   "pygments_lexer": "ipython3",
   "version": "3.13.5"
  }
 },
 "nbformat": 4,
 "nbformat_minor": 5
}
