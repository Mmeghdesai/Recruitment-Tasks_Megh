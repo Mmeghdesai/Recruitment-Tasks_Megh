{
 "cells": [
  {
   "cell_type": "code",
   "execution_count": 3,
   "id": "7aaf55da-2261-4012-b740-dfd46a081234",
   "metadata": {},
   "outputs": [
    {
     "name": "stdin",
     "output_type": "stream",
     "text": [
      "Enter a Sentence He never drinks non alcoholic drinks\n"
     ]
    },
    {
     "name": "stdout",
     "output_type": "stream",
     "text": [
      "33.333333333333336\n",
      "Negative\n"
     ]
    }
   ],
   "source": [
    "def neg_score(sentence):\n",
    "    neg=[\"no\",\"non\",\"never\",\"don't\"]\n",
    "    words = sentence.lower().split()\n",
    "    count = sum( 1 for word in words if word in neg )\n",
    "    score = (count * 100)/len(words)\n",
    "    return score\n",
    "s = str(input(\"Enter a Sentence\"))\n",
    "out = neg_score(s)\n",
    "print(out)\n",
    "if( out>30 ):\n",
    "    print( \"Negative\" )\n",
    "else:\n",
    "    print( \"Positive\" )"
   ]
  },
  {
   "cell_type": "code",
   "execution_count": null,
   "id": "4a8cb01d-b6cd-4c92-8a28-3b43069cd14b",
   "metadata": {},
   "outputs": [],
   "source": []
  }
 ],
 "metadata": {
  "kernelspec": {
   "display_name": "Python 3 (ipykernel)",
   "language": "python",
   "name": "python3"
  },
  "language_info": {
   "codemirror_mode": {
    "name": "ipython",
    "version": 3
   },
   "file_extension": ".py",
   "mimetype": "text/x-python",
   "name": "python",
   "nbconvert_exporter": "python",
   "pygments_lexer": "ipython3",
   "version": "3.13.5"
  }
 },
 "nbformat": 4,
 "nbformat_minor": 5
}
